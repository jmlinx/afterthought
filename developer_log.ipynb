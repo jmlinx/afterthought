{
 "cells": [
  {
   "cell_type": "markdown",
   "id": "3ea57276-2682-4bd4-b62b-07c5578bd500",
   "metadata": {},
   "source": [
    "# User Guide"
   ]
  },
  {
   "cell_type": "markdown",
   "id": "8c8bd97c-c1ad-4343-8825-a1ba9caf9909",
   "metadata": {},
   "source": [
    "### Set up Github DNS\n",
    "\n",
    "1. Firstly, you need to obtain the address of GitHub server. Enter  [this website](https://fastly.net.ipaddress.com/) and type the following address separately in the search box :   \n",
    "    `github.com`   \n",
    "    `github.global.ssl.fastly.net`   \n",
    "    Save one IP address shown in the `Domain Summay` for each website. \n",
    "\n",
    "2. Secondly, find your `host` file under the location C:\\Windows\\System32\\drivers\\etc   \n",
    "\n",
    "    Add the IP address you just saved to the `host` file. You may need administrator access to proceed this step.\n",
    "\n",
    "    Your lines should look something like this:\n",
    "    \n",
    "    `XXX.XX.XXX.X github.com`  \n",
    "    `XXX.XXX.XXX.XXX github.global.ssl.fastly.net`\n",
    "\n",
    "3. Finally, press`win`+`R` and type `CMD` to enter Command Prompt. Enter command `ipconfig /flushdns` and press `Enter` to refresh your DNS.\n",
    "\n",
    "4. Prompt shows: `Successfully flushed the DNS Resolver Cache.`\n",
    "\n",
    "5. You may now access GitHub freely  :)"
   ]
  },
  {
   "cell_type": "code",
   "execution_count": null,
   "id": "05df1342-953d-4891-8413-57a93835d979",
   "metadata": {},
   "outputs": [],
   "source": []
  }
 ],
 "metadata": {
  "kernelspec": {
   "display_name": "Python 3 (ipykernel)",
   "language": "python",
   "name": "python3"
  },
  "language_info": {
   "codemirror_mode": {
    "name": "ipython",
    "version": 3
   },
   "file_extension": ".py",
   "mimetype": "text/x-python",
   "name": "python",
   "nbconvert_exporter": "python",
   "pygments_lexer": "ipython3",
   "version": "3.9.5"
  }
 },
 "nbformat": 4,
 "nbformat_minor": 5
}
